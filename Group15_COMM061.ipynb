{
 "cells": [
  {
   "cell_type": "markdown",
   "id": "33c86c63",
   "metadata": {},
   "source": [
    "### Importing the libraries :"
   ]
  },
  {
   "cell_type": "code",
   "execution_count": null,
   "id": "1fc62628",
   "metadata": {},
   "outputs": [],
   "source": [
    "pip install -r requirements.txt"
   ]
  },
  {
   "cell_type": "code",
   "execution_count": 1,
   "id": "fc0918e0",
   "metadata": {},
   "outputs": [],
   "source": [
    "import re\n",
    "import nltk\n",
    "from nltk.corpus import stopwords\n",
    "from nltk.stem import PorterStemmer\n",
    "from sklearn.feature_extraction.text import TfidfVectorizer\n",
    "from sklearn.model_selection import train_test_split\n",
    "from sklearn.metrics import accuracy_score\n",
    "from sklearn.svm import SVC\n",
    "from nltk.tokenize import word_tokenize\n",
    "import joblib\n",
    "import pandas as pd\n",
    "from datetime import datetime"
   ]
  },
  {
   "cell_type": "code",
   "execution_count": 2,
   "id": "3cf8f278",
   "metadata": {},
   "outputs": [],
   "source": [
    "from flask import Flask, render_template, request, jsonify\n",
    "\n",
    "app = Flask(__name__)"
   ]
  },
  {
   "cell_type": "markdown",
   "id": "1a79febd",
   "metadata": {},
   "source": [
    "### Load the trained model"
   ]
  },
  {
   "cell_type": "code",
   "execution_count": 3,
   "id": "bd5be7ba",
   "metadata": {},
   "outputs": [
    {
     "name": "stderr",
     "output_type": "stream",
     "text": [
      "/Library/Frameworks/Python.framework/Versions/3.11/lib/python3.11/site-packages/sklearn/base.py:288: UserWarning: Trying to unpickle estimator SVC from version 1.2.2 when using version 1.2.0. This might lead to breaking code or invalid results. Use at your own risk. For more info please refer to:\n",
      "https://scikit-learn.org/stable/model_persistence.html#security-maintainability-limitations\n",
      "  warnings.warn(\n",
      "/Library/Frameworks/Python.framework/Versions/3.11/lib/python3.11/site-packages/sklearn/base.py:288: UserWarning: Trying to unpickle estimator TfidfTransformer from version 1.2.2 when using version 1.2.0. This might lead to breaking code or invalid results. Use at your own risk. For more info please refer to:\n",
      "https://scikit-learn.org/stable/model_persistence.html#security-maintainability-limitations\n",
      "  warnings.warn(\n",
      "/Library/Frameworks/Python.framework/Versions/3.11/lib/python3.11/site-packages/sklearn/base.py:288: UserWarning: Trying to unpickle estimator TfidfVectorizer from version 1.2.2 when using version 1.2.0. This might lead to breaking code or invalid results. Use at your own risk. For more info please refer to:\n",
      "https://scikit-learn.org/stable/model_persistence.html#security-maintainability-limitations\n",
      "  warnings.warn(\n"
     ]
    }
   ],
   "source": [
    "model = joblib.load('final_model.joblib')\n",
    "vectorizer = joblib.load('final_vectorizer.joblib')"
   ]
  },
  {
   "cell_type": "markdown",
   "id": "5ab6a484",
   "metadata": {},
   "source": [
    "### Preprocess helper functions"
   ]
  },
  {
   "cell_type": "code",
   "execution_count": 4,
   "id": "efcf8260",
   "metadata": {},
   "outputs": [
    {
     "name": "stderr",
     "output_type": "stream",
     "text": [
      "[nltk_data] Downloading package stopwords to\n",
      "[nltk_data]     /Users/mukesh/nltk_data...\n",
      "[nltk_data]   Package stopwords is already up-to-date!\n",
      "[nltk_data] Downloading package punkt to /Users/mukesh/nltk_data...\n",
      "[nltk_data]   Package punkt is already up-to-date!\n"
     ]
    }
   ],
   "source": [
    "nltk.download('stopwords')\n",
    "nltk.download('punkt')\n",
    "stop_words = set(stopwords.words('english'))\n",
    "stemmer = PorterStemmer()"
   ]
  },
  {
   "cell_type": "markdown",
   "id": "744941fc",
   "metadata": {},
   "source": [
    "### List of emotions from the Go Emotions dataset"
   ]
  },
  {
   "cell_type": "code",
   "execution_count": 5,
   "id": "6d11c300",
   "metadata": {},
   "outputs": [],
   "source": [
    "emotions = [\n",
    "    'admiration', 'amusement', 'anger', 'annoyance', 'approval', 'caring', 'confusion', 'curiosity',\n",
    "    'desire', 'disappointment', 'disapproval', 'disgust', 'embarrassment', 'excitement', 'fear',\n",
    "    'gratitude', 'grief', 'joy', 'love', 'nervousness', 'optimism', 'pride', 'realization', 'relief',\n",
    "    'remorse', 'sadness', 'surprise', 'neutral'\n",
    "]"
   ]
  },
  {
   "cell_type": "markdown",
   "id": "b6bf9ccd",
   "metadata": {},
   "source": [
    "###  DataFrame for emotion lookup"
   ]
  },
  {
   "cell_type": "code",
   "execution_count": 6,
   "id": "a53528f3",
   "metadata": {},
   "outputs": [],
   "source": [
    "emotion_df = pd.DataFrame({'emotion': emotions})"
   ]
  },
  {
   "cell_type": "markdown",
   "id": "2675fbab",
   "metadata": {},
   "source": [
    "### Audit data storage"
   ]
  },
  {
   "cell_type": "code",
   "execution_count": 7,
   "id": "390041f7",
   "metadata": {},
   "outputs": [],
   "source": [
    "audit_data = []"
   ]
  },
  {
   "cell_type": "code",
   "execution_count": 8,
   "id": "1c1d87bb",
   "metadata": {},
   "outputs": [],
   "source": [
    "def preprocess_text(text):\n",
    "    text = re.sub(r'http\\S+', '', text)\n",
    "    text = re.sub('[^A-Za-z0-9 ]+', '', text)\n",
    "    text = text.lower()\n",
    "    text = re.sub('\\d+', '', text)\n",
    "    text = word_tokenize(text)\n",
    "    text = [word for word in text if word not in stop_words]\n",
    "    text = [stemmer.stem(word) for word in text]\n",
    "    text = ' '.join(text)\n",
    "    return text"
   ]
  },
  {
   "cell_type": "code",
   "execution_count": 9,
   "id": "183cc02f",
   "metadata": {},
   "outputs": [],
   "source": [
    "@app.route('/')\n",
    "def home():\n",
    "    return render_template('home.html')"
   ]
  },
  {
   "cell_type": "code",
   "execution_count": 10,
   "id": "68388049",
   "metadata": {},
   "outputs": [],
   "source": [
    "@app.route('/predict', methods=['POST'])\n",
    "def predict():\n",
    "    # Get the text input from the request\n",
    "    if request.is_json:\n",
    "        data = request.get_json()\n",
    "        text = data.get('text')\n",
    "    else:\n",
    "        # Get the text input from form data\n",
    "        text = request.form.get('text')\n",
    "\n",
    "    if text is None:\n",
    "        return jsonify({'error': 'Invalid input'})\n",
    "\n",
    "    # Preprocess the text input\n",
    "    text = preprocess_text(text)\n",
    "\n",
    "    # Transform the preprocessed text using the vectorizer\n",
    "    text_vectorized = vectorizer.transform([text])\n",
    "\n",
    "    # Make predictions using the loaded model\n",
    "    predicted_class = model.predict(text_vectorized)[0]\n",
    "\n",
    "    # Retrieve the emotion based on the predicted class index\n",
    "    emotion = get_emotion(predicted_class)\n",
    "\n",
    "    # Store input, result, date, and time in the audit data\n",
    "    now = datetime.now()\n",
    "    audit_data.append({'input': request.form.get('text'), 'class': predicted_class, 'emotion': emotion, 'date': now.date(), 'time': now.time()})\n",
    "\n",
    "    results = {\n",
    "        'input_text': request.form.get('text'),\n",
    "        'predicted_class': predicted_class,\n",
    "        'emotion': emotion\n",
    "    }\n",
    "\n",
    "    \n",
    "    return render_template('results.html', input_text=request.form.get('text'), predicted_class=predicted_class, emotion=emotion)"
   ]
  },
  {
   "cell_type": "code",
   "execution_count": 11,
   "id": "cdd7ec7a",
   "metadata": {},
   "outputs": [],
   "source": [
    "@app.route('/audit')\n",
    "def audit():\n",
    "    return render_template('audit.html', audit_data=audit_data)"
   ]
  },
  {
   "cell_type": "code",
   "execution_count": 12,
   "id": "5f763524",
   "metadata": {},
   "outputs": [],
   "source": [
    "def get_emotion(predicted_class):\n",
    "    if predicted_class < 0 or predicted_class >= len(emotions):\n",
    "        return 'Unknown'\n",
    "    return emotion_df.loc[predicted_class, 'emotion']"
   ]
  },
  {
   "cell_type": "code",
   "execution_count": 13,
   "id": "68effbae",
   "metadata": {},
   "outputs": [
    {
     "name": "stdout",
     "output_type": "stream",
     "text": [
      " * Serving Flask app '__main__'\n",
      " * Debug mode: on\n"
     ]
    },
    {
     "name": "stderr",
     "output_type": "stream",
     "text": [
      "\u001b[31m\u001b[1mWARNING: This is a development server. Do not use it in a production deployment. Use a production WSGI server instead.\u001b[0m\n",
      " * Running on http://127.0.0.1:5000\n",
      "\u001b[33mPress CTRL+C to quit\u001b[0m\n",
      " * Restarting with stat\n",
      "0.00s - Debugger warning: It seems that frozen modules are being used, which may\n",
      "0.00s - make the debugger miss breakpoints. Please pass -Xfrozen_modules=off\n",
      "0.00s - to python to disable frozen modules.\n",
      "0.00s - Note: Debugging will proceed. Set PYDEVD_DISABLE_FILE_VALIDATION=1 to disable this validation.\n",
      "Traceback (most recent call last):\n",
      "  File \"/Library/Frameworks/Python.framework/Versions/3.11/lib/python3.11/site-packages/ipykernel_launcher.py\", line 17, in <module>\n",
      "    app.launch_new_instance()\n",
      "  File \"/Library/Frameworks/Python.framework/Versions/3.11/lib/python3.11/site-packages/traitlets/config/application.py\", line 1040, in launch_instance\n",
      "    app.initialize(argv)\n",
      "  File \"/Library/Frameworks/Python.framework/Versions/3.11/lib/python3.11/site-packages/traitlets/config/application.py\", line 113, in inner\n",
      "    return method(app, *args, **kwargs)\n",
      "           ^^^^^^^^^^^^^^^^^^^^^^^^^^^^\n",
      "  File \"/Library/Frameworks/Python.framework/Versions/3.11/lib/python3.11/site-packages/ipykernel/kernelapp.py\", line 677, in initialize\n",
      "    self.init_sockets()\n",
      "  File \"/Library/Frameworks/Python.framework/Versions/3.11/lib/python3.11/site-packages/ipykernel/kernelapp.py\", line 316, in init_sockets\n",
      "    self.shell_port = self._bind_socket(self.shell_socket, self.shell_port)\n",
      "                      ^^^^^^^^^^^^^^^^^^^^^^^^^^^^^^^^^^^^^^^^^^^^^^^^^^^^^\n",
      "  File \"/Library/Frameworks/Python.framework/Versions/3.11/lib/python3.11/site-packages/ipykernel/kernelapp.py\", line 251, in _bind_socket\n",
      "    return self._try_bind_socket(s, port)\n",
      "           ^^^^^^^^^^^^^^^^^^^^^^^^^^^^^^\n",
      "  File \"/Library/Frameworks/Python.framework/Versions/3.11/lib/python3.11/site-packages/ipykernel/kernelapp.py\", line 227, in _try_bind_socket\n",
      "    s.bind(\"tcp://%s:%i\" % (self.ip, port))\n",
      "  File \"/Library/Frameworks/Python.framework/Versions/3.11/lib/python3.11/site-packages/zmq/sugar/socket.py\", line 232, in bind\n",
      "    super().bind(addr)\n",
      "  File \"zmq/backend/cython/socket.pyx\", line 568, in zmq.backend.cython.socket.Socket.bind\n",
      "  File \"zmq/backend/cython/checkrc.pxd\", line 28, in zmq.backend.cython.checkrc._check_rc\n",
      "zmq.error.ZMQError: Address already in use\n"
     ]
    },
    {
     "ename": "SystemExit",
     "evalue": "1",
     "output_type": "error",
     "traceback": [
      "An exception has occurred, use %tb to see the full traceback.\n",
      "\u001b[0;31mSystemExit\u001b[0m\u001b[0;31m:\u001b[0m 1\n"
     ]
    },
    {
     "name": "stderr",
     "output_type": "stream",
     "text": [
      "/Library/Frameworks/Python.framework/Versions/3.11/lib/python3.11/site-packages/IPython/core/interactiveshell.py:3441: UserWarning: To exit: use 'exit', 'quit', or Ctrl-D.\n",
      "  warn(\"To exit: use 'exit', 'quit', or Ctrl-D.\", stacklevel=1)\n"
     ]
    }
   ],
   "source": [
    "if __name__ == '__main__':\n",
    "    app.run(debug=True)\n"
   ]
  }
 ],
 "metadata": {
  "kernelspec": {
   "display_name": "Python 3 (ipykernel)",
   "language": "python",
   "name": "python3"
  },
  "language_info": {
   "codemirror_mode": {
    "name": "ipython",
    "version": 3
   },
   "file_extension": ".py",
   "mimetype": "text/x-python",
   "name": "python",
   "nbconvert_exporter": "python",
   "pygments_lexer": "ipython3",
   "version": "3.11.1"
  }
 },
 "nbformat": 4,
 "nbformat_minor": 5
}
